{
 "cells": [
  {
   "cell_type": "markdown",
   "metadata": {
    "colab_type": "text",
    "id": "Dnubs-Nnb3cw"
   },
   "source": [
    "## Naive Bayes on Donors choose dataset"
   ]
  },
  {
   "cell_type": "markdown",
   "metadata": {},
   "source": [
    "### Applying NB on two sets of features\n",
    "Set1 - Categorical,numerical features,preprocessed_essay(Bag of Words)\n",
    "\n",
    "Set2 - Categorical,numerical features,preprocessed_essay(TFIDF) "
   ]
  },
  {
   "cell_type": "markdown",
   "metadata": {
    "colab_type": "text",
    "id": "V-VQ8unjh6NT"
   },
   "source": [
    "## Naive Bayes"
   ]
  },
  {
   "cell_type": "code",
   "execution_count": 1,
   "metadata": {
    "colab": {
     "base_uri": "https://localhost:8080/",
     "height": 276
    },
    "colab_type": "code",
    "id": "chpSjDaXm9KG",
    "outputId": "d5dc1f79-dd45-48aa-f8dd-80beb6daa7a5"
   },
   "outputs": [
    {
     "name": "stdout",
     "output_type": "stream",
     "text": [
      "Requirement already satisfied: chart_studio in c:\\programdata\\anaconda3\\lib\\site-packages (1.1.0)\n",
      "Requirement already satisfied: requests in c:\\programdata\\anaconda3\\lib\\site-packages (from chart_studio) (2.22.0)\n",
      "Requirement already satisfied: retrying>=1.3.3 in c:\\programdata\\anaconda3\\lib\\site-packages (from chart_studio) (1.3.3)\n",
      "Requirement already satisfied: six in c:\\programdata\\anaconda3\\lib\\site-packages (from chart_studio) (1.14.0)\n",
      "Requirement already satisfied: plotly in c:\\programdata\\anaconda3\\lib\\site-packages (from chart_studio) (4.9.0)\n",
      "Requirement already satisfied: urllib3!=1.25.0,!=1.25.1,<1.26,>=1.21.1 in c:\\programdata\\anaconda3\\lib\\site-packages (from requests->chart_studio) (1.25.8)\n",
      "Requirement already satisfied: idna<2.9,>=2.5 in c:\\programdata\\anaconda3\\lib\\site-packages (from requests->chart_studio) (2.8)\n",
      "Requirement already satisfied: certifi>=2017.4.17 in c:\\programdata\\anaconda3\\lib\\site-packages (from requests->chart_studio) (2019.11.28)\n",
      "Requirement already satisfied: chardet<3.1.0,>=3.0.2 in c:\\programdata\\anaconda3\\lib\\site-packages (from requests->chart_studio) (3.0.4)\n"
     ]
    }
   ],
   "source": [
    "!pip install chart_studio"
   ]
  },
  {
   "cell_type": "code",
   "execution_count": 2,
   "metadata": {
    "colab": {},
    "colab_type": "code",
    "id": "c-y8YcXQYDsy"
   },
   "outputs": [],
   "source": [
    "from sklearn.feature_extraction.text import CountVectorizer\n",
    "from sklearn.feature_extraction.text import TfidfVectorizer\n",
    "from sklearn.preprocessing import Normalizer\n",
    "\n",
    "%matplotlib inline\n",
    "import warnings\n",
    "warnings.filterwarnings(\"ignore\")\n",
    "\n",
    "import pandas as pd\n",
    "import numpy as np\n",
    "import nltk\n",
    "import matplotlib.pyplot as plt\n",
    "import seaborn as sns\n",
    "from sklearn.feature_extraction.text import TfidfVectorizer\n",
    "from sklearn.feature_extraction.text import CountVectorizer\n",
    "from sklearn.metrics import confusion_matrix\n",
    "from sklearn import metrics\n",
    "from sklearn.metrics import roc_curve, auc\n",
    "\n",
    "import re\n",
    "# Tutorial about Python regular expressions: https://pymotw.com/2/re/\n",
    "import pickle\n",
    "from tqdm import tqdm\n",
    "import os\n",
    "\n",
    "from chart_studio import plotly\n",
    "# import plotly.offline as offline\n",
    "import plotly.graph_objs as go\n",
    "from collections import Counter"
   ]
  },
  {
   "cell_type": "markdown",
   "metadata": {
    "colab_type": "text",
    "id": "FYqCIxzFb3c5"
   },
   "source": [
    "## 1.1 Loading Data"
   ]
  },
  {
   "cell_type": "code",
   "execution_count": 3,
   "metadata": {
    "colab": {
     "base_uri": "https://localhost:8080/",
     "height": 188
    },
    "colab_type": "code",
    "id": "0P8dhV1xYHsq",
    "outputId": "2ab3541a-648f-4a72-98f9-157735eb6054"
   },
   "outputs": [
    {
     "data": {
      "text/html": [
       "<div>\n",
       "<style scoped>\n",
       "    .dataframe tbody tr th:only-of-type {\n",
       "        vertical-align: middle;\n",
       "    }\n",
       "\n",
       "    .dataframe tbody tr th {\n",
       "        vertical-align: top;\n",
       "    }\n",
       "\n",
       "    .dataframe thead th {\n",
       "        text-align: right;\n",
       "    }\n",
       "</style>\n",
       "<table border=\"1\" class=\"dataframe\">\n",
       "  <thead>\n",
       "    <tr style=\"text-align: right;\">\n",
       "      <th></th>\n",
       "      <th>school_state</th>\n",
       "      <th>teacher_prefix</th>\n",
       "      <th>project_grade_category</th>\n",
       "      <th>teacher_number_of_previously_posted_projects</th>\n",
       "      <th>clean_categories</th>\n",
       "      <th>clean_subcategories</th>\n",
       "      <th>essay</th>\n",
       "      <th>price</th>\n",
       "    </tr>\n",
       "  </thead>\n",
       "  <tbody>\n",
       "    <tr>\n",
       "      <th>0</th>\n",
       "      <td>ca</td>\n",
       "      <td>mrs</td>\n",
       "      <td>grades_prek_2</td>\n",
       "      <td>53</td>\n",
       "      <td>math_science</td>\n",
       "      <td>appliedsciences health_lifescience</td>\n",
       "      <td>i fortunate enough use fairy tale stem kits cl...</td>\n",
       "      <td>725.05</td>\n",
       "    </tr>\n",
       "  </tbody>\n",
       "</table>\n",
       "</div>"
      ],
      "text/plain": [
       "  school_state teacher_prefix project_grade_category  \\\n",
       "0           ca            mrs          grades_prek_2   \n",
       "\n",
       "   teacher_number_of_previously_posted_projects clean_categories  \\\n",
       "0                                            53     math_science   \n",
       "\n",
       "                  clean_subcategories  \\\n",
       "0  appliedsciences health_lifescience   \n",
       "\n",
       "                                               essay   price  \n",
       "0  i fortunate enough use fairy tale stem kits cl...  725.05  "
      ]
     },
     "execution_count": 3,
     "metadata": {},
     "output_type": "execute_result"
    }
   ],
   "source": [
    "import pandas as pd\n",
    "data  = pd.read_csv('data.csv', nrows=50000)\n",
    "y = data['project_is_approved'].values\n",
    "X = data.drop(['project_is_approved'], axis=1)\n",
    "X.head(1)"
   ]
  },
  {
   "cell_type": "markdown",
   "metadata": {
    "colab_type": "text",
    "id": "s_ZVsG5SYkMP"
   },
   "source": [
    "## 1.2 Splitting data into Train and cross validation(or test): Stratified Sampling"
   ]
  },
  {
   "cell_type": "code",
   "execution_count": 4,
   "metadata": {
    "colab": {
     "base_uri": "https://localhost:8080/",
     "height": 72
    },
    "colab_type": "code",
    "id": "8FnIILK8YOvg",
    "outputId": "a90a63a4-aa5c-468a-e435-5d6cd9e8b7cc"
   },
   "outputs": [
    {
     "name": "stdout",
     "output_type": "stream",
     "text": [
      "(33500, 8) (33500,)\n",
      "(16500, 8) (16500,)\n",
      "****************************************************************************************************\n"
     ]
    }
   ],
   "source": [
    "# train test split\n",
    "from sklearn.model_selection import train_test_split\n",
    "X_train, X_test, y_train, y_test = train_test_split(X, y, test_size=0.33, stratify=y)\n",
    "\n",
    "print(X_train.shape , y_train.shape)\n",
    "print(X_test.shape, y_test.shape)\n",
    "print('**'*50)"
   ]
  },
  {
   "cell_type": "markdown",
   "metadata": {
    "colab_type": "text",
    "id": "2JflxGt5igVQ"
   },
   "source": [
    "## 2) Make Data Model Ready"
   ]
  },
  {
   "cell_type": "markdown",
   "metadata": {
    "colab_type": "text",
    "id": "FxyaaIbcY0Ds"
   },
   "source": [
    "##2.1 Encoding Textual Features using BAG OF WORDS"
   ]
  },
  {
   "cell_type": "code",
   "execution_count": 5,
   "metadata": {
    "colab": {
     "base_uri": "https://localhost:8080/",
     "height": 570
    },
    "colab_type": "code",
    "id": "WOT-ZmeaYSbm",
    "outputId": "925efd06-72f4-4538-a3c1-d7c85cb4ebda"
   },
   "outputs": [
    {
     "name": "stdout",
     "output_type": "stream",
     "text": [
      " after encoding in bow the size of :\n",
      " train feature -- (33500, 8000) (33500,)\n",
      "test feature -- (16500, 8000) (16500,)\n",
      "****************************************************************************************************\n",
      " after encoding in bow the size of :\n",
      " train feature -- (33500, 51) (33500,)\n",
      "test feature -- (16500, 51) (16500,)\n",
      "the features are :  ['ak', 'al', 'ar', 'az', 'ca', 'co', 'ct', 'dc', 'de', 'fl', 'ga', 'hi', 'ia', 'id', 'il', 'in', 'ks', 'ky', 'la', 'ma', 'md', 'me', 'mi', 'mn', 'mo', 'ms', 'mt', 'nc', 'nd', 'ne', 'nh', 'nj', 'nm', 'nv', 'ny', 'oh', 'ok', 'or', 'pa', 'ri', 'sc', 'sd', 'tn', 'tx', 'ut', 'va', 'vt', 'wa', 'wi', 'wv', 'wy']\n",
      "****************************************************************************************************\n",
      " after encoding in bow the size of :\n",
      " train feature -- (33500, 5) (33500,)\n",
      "test feature -- (16500, 5) (16500,)\n",
      "the features are :  ['dr', 'mr', 'mrs', 'ms', 'teacher']\n",
      "****************************************************************************************************\n",
      " after encoding in bow the size of :\n",
      " train feature -- (33500, 4) (33500,)\n",
      "test feature -- (16500, 4) (16500,)\n",
      "the features are :  ['grades_3_5', 'grades_6_8', 'grades_9_12', 'grades_prek_2']\n",
      "****************************************************************************************************\n",
      " after encoding in bow the size of :\n",
      " train feature -- (33500, 9) (33500,)\n",
      "test feature -- (16500, 9) (16500,)\n",
      "the features are :  ['appliedlearning', 'care_hunger', 'health_sports', 'history_civics', 'literacy_language', 'math_science', 'music_arts', 'specialneeds', 'warmth']\n",
      "****************************************************************************************************\n",
      " after encoding in bow the size of :\n",
      " train feature -- (33500, 30) (33500,)\n",
      "test feature -- (16500, 30) (16500,)\n",
      "the features are :  ['appliedsciences', 'care_hunger', 'charactereducation', 'civics_government', 'college_careerprep', 'communityservice', 'earlydevelopment', 'economics', 'environmentalscience', 'esl', 'extracurricular', 'financialliteracy', 'foreignlanguages', 'gym_fitness', 'health_lifescience', 'health_wellness', 'history_geography', 'literacy', 'literature_writing', 'mathematics', 'music', 'nutritioneducation', 'other', 'parentinvolvement', 'performingarts', 'socialsciences', 'specialneeds', 'teamsports', 'visualarts', 'warmth']\n",
      "****************************************************************************************************\n"
     ]
    }
   ],
   "source": [
    "# encoding essay attribute using count vectorizer\n",
    "vectorizer = CountVectorizer(min_df=10,ngram_range=(1,4), max_features=8000) ## taking 8000 distinct words which occure at least in 10 reviews(min_df = 10)\n",
    "vectorizer.fit(X_train['essay'].values)\n",
    "essay_feature_bow=vectorizer.get_feature_names()\n",
    "X_train_essay_bow=vectorizer.transform(X_train['essay'].values)\n",
    "X_test_essay_bow=vectorizer.transform(X_test['essay'].values)\n",
    "\n",
    "print(\" after encoding in bow the size of :\")\n",
    "print(\" train feature --\",X_train_essay_bow.shape,y_train.shape)\n",
    "print(\"test feature --\",X_test_essay_bow.shape,y_test.shape)\n",
    "print('**'*50)\n",
    "\n",
    "# encoding school_state using count vectorizer\n",
    "vectorizer=CountVectorizer()\n",
    "vectorizer.fit(X_train['school_state'].values)\n",
    "school_state_feature_bow=vectorizer.get_feature_names()\n",
    "X_train_school_state_bow=vectorizer.transform(X_train['school_state'].values)\n",
    "X_test_school_state_bow=vectorizer.transform(X_test['school_state'].values)\n",
    "\n",
    "print(\" after encoding in bow the size of :\")\n",
    "print(\" train feature --\",X_train_school_state_bow.shape,y_train.shape)\n",
    "print(\"test feature --\",X_test_school_state_bow.shape,y_test.shape)\n",
    "print('the features are : ',school_state_feature_bow)\n",
    "print('**'*50)\n",
    "\n",
    "#encoding teacher_prefix using count vectorizer\n",
    "vectorizer=CountVectorizer()\n",
    "vectorizer.fit(X_train['teacher_prefix'].values)\n",
    "teacher_prefix_feature_bow=vectorizer.get_feature_names()\n",
    "X_train_teacher_prefix_bow=vectorizer.transform(X_train['teacher_prefix'].values)\n",
    "X_test_teacher_prefix_bow=vectorizer.transform(X_test['teacher_prefix'].values)\n",
    "\n",
    "print(\" after encoding in bow the size of :\")\n",
    "print(\" train feature --\",X_train_teacher_prefix_bow.shape,y_train.shape)\n",
    "print(\"test feature --\",X_test_teacher_prefix_bow.shape,y_test.shape)\n",
    "print('the features are : ',teacher_prefix_feature_bow)\n",
    "print('**'*50)\n",
    "\n",
    "#encoding project_grade_category using count vectorizer\n",
    "vectorizer=CountVectorizer()\n",
    "vectorizer.fit(X_train['project_grade_category'].values)\n",
    "project_grade_category_feature_bow=vectorizer.get_feature_names()\n",
    "X_train_project_grade_category_bow=vectorizer.transform(X_train['project_grade_category'].values)\n",
    "X_test_project_grade_category_bow=vectorizer.transform(X_test['project_grade_category'].values)\n",
    "\n",
    "print(\" after encoding in bow the size of :\")\n",
    "print(\" train feature --\",X_train_project_grade_category_bow.shape,y_train.shape)\n",
    "print(\"test feature --\",X_test_project_grade_category_bow.shape,y_test.shape)\n",
    "print('the features are : ',project_grade_category_feature_bow)\n",
    "print('**'*50)\n",
    "\n",
    "#encoding clean_categories using count vectorizer\n",
    "vectorizer=CountVectorizer()\n",
    "vectorizer.fit(X_train['clean_categories'].values)\n",
    "clean_categories_feature_bow=vectorizer.get_feature_names()\n",
    "X_train_clean_categories_bow=vectorizer.transform(X_train['clean_categories'].values)\n",
    "X_test_clean_categories_bow=vectorizer.transform(X_test['clean_categories'].values)\n",
    "\n",
    "print(\" after encoding in bow the size of :\")\n",
    "print(\" train feature --\",X_train_clean_categories_bow.shape,y_train.shape)\n",
    "print(\"test feature --\",X_test_clean_categories_bow.shape,y_test.shape)\n",
    "print('the features are : ',clean_categories_feature_bow)\n",
    "print('**'*50)\n",
    "\n",
    "#encoding clean_subcategories using count vectorizer\n",
    "vectorizer=CountVectorizer()\n",
    "vectorizer.fit(X_train['clean_subcategories'].values)\n",
    "clean_subcategories_feature_bow=vectorizer.get_feature_names()\n",
    "X_train_clean_subcategories_bow=vectorizer.transform(X_train['clean_subcategories'].values)\n",
    "X_test_clean_subcategories_bow=vectorizer.transform(X_test['clean_subcategories'].values)\n",
    "\n",
    "print(\" after encoding in bow the size of :\")\n",
    "print(\" train feature --\",X_train_clean_subcategories_bow.shape,y_train.shape)\n",
    "print(\"test feature --\",X_test_clean_subcategories_bow.shape,y_test.shape)\n",
    "print('the features are : ',clean_subcategories_feature_bow)\n",
    "print('**'*50)"
   ]
  },
  {
   "cell_type": "markdown",
   "metadata": {
    "colab_type": "text",
    "id": "MTtspz2_Y4xf"
   },
   "source": [
    "## 2.2 Encoding Text features using TFIDF "
   ]
  },
  {
   "cell_type": "code",
   "execution_count": 6,
   "metadata": {
    "colab": {
     "base_uri": "https://localhost:8080/",
     "height": 570
    },
    "colab_type": "code",
    "id": "j3WcB5qEYwbW",
    "outputId": "cae1cf95-2e5d-43af-8c99-4fa87e23e474"
   },
   "outputs": [
    {
     "name": "stdout",
     "output_type": "stream",
     "text": [
      " after encoding in bow the size of :\n",
      " train feature -- (33500, 8000) (33500,)\n",
      "test feature -- (16500, 8000) (16500,)\n",
      "****************************************************************************************************\n",
      " after encoding in bow the size of :\n",
      " train feature -- (33500, 51) (33500,)\n",
      "test feature -- (16500, 51) (16500,)\n",
      "the features are :  ['ak', 'al', 'ar', 'az', 'ca', 'co', 'ct', 'dc', 'de', 'fl', 'ga', 'hi', 'ia', 'id', 'il', 'in', 'ks', 'ky', 'la', 'ma', 'md', 'me', 'mi', 'mn', 'mo', 'ms', 'mt', 'nc', 'nd', 'ne', 'nh', 'nj', 'nm', 'nv', 'ny', 'oh', 'ok', 'or', 'pa', 'ri', 'sc', 'sd', 'tn', 'tx', 'ut', 'va', 'vt', 'wa', 'wi', 'wv', 'wy']\n",
      "****************************************************************************************************\n",
      " after encoding in bow the size of :\n",
      " train feature -- (33500, 5) (33500,)\n",
      "test feature -- (16500, 5) (16500,)\n",
      "the features are :  ['dr', 'mr', 'mrs', 'ms', 'teacher']\n",
      "****************************************************************************************************\n",
      " after encoding in bow the size of :\n",
      " train feature -- (33500, 4) (33500,)\n",
      "test feature -- (16500, 4) (16500,)\n",
      "the features are :  ['grades_3_5', 'grades_6_8', 'grades_9_12', 'grades_prek_2']\n",
      "****************************************************************************************************\n",
      " after encoding in bow the size of :\n",
      " train feature -- (33500, 9) (33500,)\n",
      "test feature -- (16500, 9) (16500,)\n",
      "the features are :  ['appliedlearning', 'care_hunger', 'health_sports', 'history_civics', 'literacy_language', 'math_science', 'music_arts', 'specialneeds', 'warmth']\n",
      "****************************************************************************************************\n",
      " after encoding in bow the size of :\n",
      " train feature -- (33500, 30) (33500,)\n",
      "test feature -- (16500, 30) (16500,)\n",
      "the features are :  ['appliedsciences', 'care_hunger', 'charactereducation', 'civics_government', 'college_careerprep', 'communityservice', 'earlydevelopment', 'economics', 'environmentalscience', 'esl', 'extracurricular', 'financialliteracy', 'foreignlanguages', 'gym_fitness', 'health_lifescience', 'health_wellness', 'history_geography', 'literacy', 'literature_writing', 'mathematics', 'music', 'nutritioneducation', 'other', 'parentinvolvement', 'performingarts', 'socialsciences', 'specialneeds', 'teamsports', 'visualarts', 'warmth']\n",
      "****************************************************************************************************\n"
     ]
    }
   ],
   "source": [
    "# encoding essay attribute \n",
    "vectorizer = TfidfVectorizer(min_df=10,ngram_range=(1,4), max_features=8000)\n",
    "vectorizer.fit(X_train['essay'].values)\n",
    "essay_feature_TF=vectorizer.get_feature_names()\n",
    "X_train_essay_TF=vectorizer.transform(X_train['essay'].values)\n",
    "X_test_essay_TF=vectorizer.transform(X_test['essay'].values)\n",
    "\n",
    "print(\" after encoding in bow the size of :\")\n",
    "print(\" train feature --\",X_train_essay_TF.shape,y_train.shape)\n",
    "print(\"test feature --\",X_test_essay_TF.shape,y_test.shape)\n",
    "print('**'*50)\n",
    "\n",
    "# encoding school_state \n",
    "vectorizer=TfidfVectorizer()\n",
    "vectorizer.fit(X_train['school_state'].values)\n",
    "school_state_feature_TF=vectorizer.get_feature_names()\n",
    "X_train_school_state_TF=vectorizer.transform(X_train['school_state'].values)\n",
    "X_test_school_state_TF=vectorizer.transform(X_test['school_state'].values)\n",
    "\n",
    "print(\" after encoding in bow the size of :\")\n",
    "print(\" train feature --\",X_train_school_state_TF.shape,y_train.shape)\n",
    "print(\"test feature --\",X_test_school_state_TF.shape,y_test.shape)\n",
    "print('the features are : ',school_state_feature_TF)\n",
    "print('**'*50)\n",
    "\n",
    "#encoding teacher_prefix\n",
    "vectorizer=TfidfVectorizer()\n",
    "vectorizer.fit(X_train['teacher_prefix'].values)\n",
    "teacher_prefix_feature_TF=vectorizer.get_feature_names()\n",
    "X_train_teacher_prefix_TF=vectorizer.transform(X_train['teacher_prefix'].values)\n",
    "X_test_teacher_prefix_TF=vectorizer.transform(X_test['teacher_prefix'].values)\n",
    "\n",
    "print(\" after encoding in bow the size of :\")\n",
    "print(\" train feature --\",X_train_teacher_prefix_TF.shape,y_train.shape)\n",
    "print(\"test feature --\",X_test_teacher_prefix_TF.shape,y_test.shape)\n",
    "print('the features are : ',teacher_prefix_feature_TF)\n",
    "print('**'*50)\n",
    "\n",
    "#encoding project_grade_category \n",
    "vectorizer=TfidfVectorizer()\n",
    "vectorizer.fit(X_train['project_grade_category'].values)\n",
    "project_grade_category_feature_TF=vectorizer.get_feature_names()\n",
    "X_train_project_grade_category_TF=vectorizer.transform(X_train['project_grade_category'].values)\n",
    "X_test_project_grade_category_TF=vectorizer.transform(X_test['project_grade_category'].values)\n",
    "\n",
    "print(\" after encoding in bow the size of :\")\n",
    "print(\" train feature --\",X_train_project_grade_category_TF.shape,y_train.shape)\n",
    "print(\"test feature --\",X_test_project_grade_category_TF.shape,y_test.shape)\n",
    "print('the features are : ',project_grade_category_feature_TF)\n",
    "print('**'*50)\n",
    "\n",
    "#encoding clean_categories \n",
    "vectorizer=TfidfVectorizer()\n",
    "vectorizer.fit(X_train['clean_categories'].values)\n",
    "clean_categories_feature_TF=vectorizer.get_feature_names()\n",
    "X_train_clean_categories_TF=vectorizer.transform(X_train['clean_categories'].values)\n",
    "X_test_clean_categories_TF=vectorizer.transform(X_test['clean_categories'].values)\n",
    "\n",
    "print(\" after encoding in bow the size of :\")\n",
    "print(\" train feature --\",X_train_clean_categories_TF.shape,y_train.shape)\n",
    "print(\"test feature --\",X_test_clean_categories_TF.shape,y_test.shape)\n",
    "print('the features are : ',clean_categories_feature_TF)\n",
    "print('**'*50)\n",
    "\n",
    "#encoding clean_subcategories \n",
    "vectorizer=TfidfVectorizer()\n",
    "vectorizer.fit(X_train['clean_subcategories'].values)\n",
    "clean_subcategories_feature_TF=vectorizer.get_feature_names()\n",
    "X_train_clean_subcategories_TF=vectorizer.transform(X_train['clean_subcategories'].values)\n",
    "X_test_clean_subcategories_TF=vectorizer.transform(X_test['clean_subcategories'].values)\n",
    "\n",
    "print(\" after encoding in bow the size of :\")\n",
    "print(\" train feature --\",X_train_clean_subcategories_TF.shape,y_train.shape)\n",
    "print(\"test feature --\",X_test_clean_subcategories_TF.shape,y_test.shape)\n",
    "print('the features are : ',clean_subcategories_feature_TF)\n",
    "print('**'*50)"
   ]
  },
  {
   "cell_type": "markdown",
   "metadata": {
    "colab_type": "text",
    "id": "tGApxOW5ZKes"
   },
   "source": [
    "## Encoding numerical features using Normalizer"
   ]
  },
  {
   "cell_type": "code",
   "execution_count": 7,
   "metadata": {
    "colab": {
     "base_uri": "https://localhost:8080/",
     "height": 844
    },
    "colab_type": "code",
    "id": "ivR27g4vZEnt",
    "outputId": "1e90a2ed-e25e-4f77-a677-8e7b43f83fac"
   },
   "outputs": [
    {
     "name": "stdout",
     "output_type": "stream",
     "text": [
      " after encoding using normalizer the size of :\n",
      " train feature -- (1, 33500) (33500,)\n",
      "test feature -- (1, 16500) (16500,)\n",
      "****************************************************************************************************\n",
      "[[0.00074369]\n",
      " [0.00092393]\n",
      " [0.00186456]\n",
      " ...\n",
      " [0.00133543]\n",
      " [0.00094621]\n",
      " [0.00295046]]\n",
      "****************************************************************************************************\n",
      "[[0.01239203]\n",
      " [0.00822029]\n",
      " [0.00865571]\n",
      " ...\n",
      " [0.00403622]\n",
      " [0.00275133]\n",
      " [0.00689957]]\n",
      "****************************************************************************************************\n",
      "(33500, 1)\n",
      "(16500, 1)\n",
      "====================================================================================================\n",
      " after encoding using normalizer the size of :\n",
      " train feature -- (1, 33500) (33500,)\n",
      "test feature -- (1, 16500) (16500,)\n",
      "****************************************************************************************************\n",
      "[[0.01096036]\n",
      " [0.        ]\n",
      " [0.00548018]\n",
      " ...\n",
      " [0.        ]\n",
      " [0.        ]\n",
      " [0.00168621]]\n",
      "****************************************************************************************************\n",
      "[[0.        ]\n",
      " [0.00092454]\n",
      " [0.0181826 ]\n",
      " ...\n",
      " [0.00061636]\n",
      " [0.00092454]\n",
      " [0.        ]]\n",
      "****************************************************************************************************\n",
      "(33500, 1)\n",
      "(16500, 1)\n"
     ]
    }
   ],
   "source": [
    "normalizer = Normalizer()\n",
    "normalizer.fit(X_train['price'].values.reshape(1,-1))\n",
    "X_train_price_norm_1=normalizer.transform(X_train['price'].values.reshape(1,-1))\n",
    "X_test_price_norm_1=normalizer.transform(X_test['price'].values.reshape(1,-1))\n",
    "X_train_price_norm= X_train_price_norm_1.reshape(-1,1)\n",
    "X_test_price_norm= X_test_price_norm_1.reshape(-1,1)\n",
    "\n",
    "\n",
    "print(\" after encoding using normalizer the size of :\")\n",
    "print(\" train feature --\",X_train_price_norm_1.shape,y_train.shape)\n",
    "print(\"test feature --\",X_test_price_norm_1.shape,y_test.shape)\n",
    "print('**'*50)\n",
    "print(X_train_price_norm)\n",
    "print('**'*50)\n",
    "print(X_test_price_norm)\n",
    "print('**'*50)\n",
    "print(X_train_price_norm.shape)\n",
    "print(X_test_price_norm.shape)\n",
    "\n",
    "print('='*100)\n",
    "\n",
    "normalizer = Normalizer()\n",
    "normalizer.fit(X_train['teacher_number_of_previously_posted_projects'].values.reshape(1,-1))\n",
    "X_train_teacher_number_of_previously_posted_projects_norm_1=normalizer.transform(X_train['teacher_number_of_previously_posted_projects'].values.reshape(1,-1))\n",
    "X_test_teacher_number_of_previously_posted_projects_norm_1=normalizer.transform(X_test['teacher_number_of_previously_posted_projects'].values.reshape(1,-1))\n",
    "X_train_teacher_number_of_previously_posted_projects_norm= X_train_teacher_number_of_previously_posted_projects_norm_1.reshape(-1,1)\n",
    "X_test_teacher_number_of_previously_posted_projects_norm= X_test_teacher_number_of_previously_posted_projects_norm_1.reshape(-1,1)\n",
    "\n",
    "print(\" after encoding using normalizer the size of :\")\n",
    "print(\" train feature --\",X_train_teacher_number_of_previously_posted_projects_norm_1.shape,y_train.shape)\n",
    "print(\"test feature --\",X_test_teacher_number_of_previously_posted_projects_norm_1.shape,y_test.shape)\n",
    "print('**'*50)\n",
    "print(X_train_teacher_number_of_previously_posted_projects_norm)\n",
    "print('**'*50)\n",
    "print(X_test_teacher_number_of_previously_posted_projects_norm)\n",
    "print('**'*50)\n",
    "print(X_train_teacher_number_of_previously_posted_projects_norm.shape)\n",
    "print(X_test_teacher_number_of_previously_posted_projects_norm.shape)\n"
   ]
  },
  {
   "cell_type": "markdown",
   "metadata": {
    "colab_type": "text",
    "id": "x7UqH_Mni1nk"
   },
   "source": [
    "## 2.4 Final Data Preparation- merging all the vectorized features"
   ]
  },
  {
   "cell_type": "code",
   "execution_count": 8,
   "metadata": {
    "colab": {
     "base_uri": "https://localhost:8080/",
     "height": 127
    },
    "colab_type": "code",
    "id": "GxYk9LbdaETh",
    "outputId": "511e1171-b07f-40b7-ce0e-2541fa208118"
   },
   "outputs": [
    {
     "name": "stdout",
     "output_type": "stream",
     "text": [
      "(33500, 8101) (33500,)\n",
      "(16500, 8101) (16500,)\n",
      "****************************************************************************************************\n",
      "(33500, 8101) (33500,)\n",
      "(16500, 8101) (16500,)\n",
      "****************************************************************************************************\n"
     ]
    }
   ],
   "source": [
    "# merge two sparse matrices: https://stackoverflow.com/a/19710648/4084039\n",
    "## Set 1 (Categorical+Numerical+titles(BOW)+Essays(BOW))\n",
    "from scipy.sparse import hstack\n",
    "X_train_BOW = hstack((X_train_essay_bow, X_train_school_state_bow, X_train_teacher_prefix_bow, X_train_project_grade_category_bow,X_train_clean_categories_bow,X_train_clean_subcategories_bow, X_train_price_norm,X_train_teacher_number_of_previously_posted_projects_norm)).tocsr()\n",
    "X_test_BOW = hstack((X_test_essay_bow, X_test_school_state_bow, X_test_teacher_prefix_bow, X_test_project_grade_category_bow,X_test_clean_categories_bow,X_test_clean_subcategories_bow, X_test_price_norm,X_test_teacher_number_of_previously_posted_projects_norm)).tocsr()\n",
    "\n",
    "print(X_train_BOW.shape, y_train.shape)\n",
    "print(X_test_BOW.shape, y_test.shape)\n",
    "print('**'*50)\n",
    "\n",
    "## Set 2 (Categorical+Numerical+titles(TFIDF)+Essays(TFIDF))\n",
    "X_train_TFIDF = hstack((X_train_essay_TF, X_train_school_state_TF, X_train_teacher_prefix_TF, X_train_project_grade_category_TF,X_train_clean_categories_TF,X_train_clean_subcategories_TF, X_train_price_norm,X_train_teacher_number_of_previously_posted_projects_norm)).tocsr()\n",
    "X_test_TFIDF = hstack((X_test_essay_TF, X_test_school_state_TF, X_test_teacher_prefix_TF, X_test_project_grade_category_TF,X_test_clean_categories_TF,X_test_clean_subcategories_TF, X_test_price_norm,X_test_teacher_number_of_previously_posted_projects_norm)).tocsr()\n",
    "\n",
    "print(X_train_TFIDF.shape, y_train.shape)\n",
    "print(X_test_TFIDF.shape, y_test.shape)\n",
    "print('**'*50)"
   ]
  },
  {
   "cell_type": "markdown",
   "metadata": {
    "colab_type": "text",
    "id": "sdDlLrFjjC2d"
   },
   "source": [
    "## 3) Appling NB on different kind of featurization "
   ]
  },
  {
   "cell_type": "markdown",
   "metadata": {
    "colab_type": "text",
    "id": "0StE36zGahcw"
   },
   "source": [
    "## Training\n",
    "\n",
    "## Hyper-parameter tuning on BOW features"
   ]
  },
  {
   "cell_type": "code",
   "execution_count": 40,
   "metadata": {
    "colab": {
     "base_uri": "https://localhost:8080/",
     "height": 35
    },
    "colab_type": "code",
    "id": "VJxAd5cWadeb",
    "outputId": "acd5b164-9061-4602-cd07-7e6ce369eb17"
   },
   "outputs": [
    {
     "name": "stderr",
     "output_type": "stream",
     "text": [
      "100%|██████████████████████████████████████████████████| 14/14 [00:00<?, ?it/s]\n"
     ]
    }
   ],
   "source": [
    "from sklearn.naive_bayes import MultinomialNB\n",
    "from sklearn.model_selection import GridSearchCV\n",
    "\n",
    "model = MultinomialNB(class_prior=[0.5,0.5])\n",
    "parameters = {'alpha':[0.00001,0.0005,0.0001,0.005,0.001,0.05,0.01,0.1,0.5,1,5,10,50,100]}   # values changed to interval(10^[-5] to 10^2) as suggested\n",
    "clf = GridSearchCV(model, parameters, cv=10, scoring='roc_auc',return_train_score=True,n_jobs=-1) ## Usng Gridsearch\n",
    "clf.fit(X_train_BOW, y_train)\n",
    "\n",
    "train_auc= clf.cv_results_['mean_train_score']\n",
    "train_auc_std= clf.cv_results_['std_train_score']\n",
    "cv_auc = clf.cv_results_['mean_test_score']\n",
    "cv_auc_std= clf.cv_results_['std_test_score']\n",
    "\n",
    "\n",
    "# Taking log of all alpha values\n",
    "import math\n",
    "\n",
    "alpha = [0.00001,0.0005,0.0001,0.005,0.001,0.05,0.01,0.1,0.5,1,5,10,50,100]\n",
    "\n",
    "log_alpha = []\n",
    "for values in tqdm(alpha):\n",
    "    a = math.log(values)\n",
    "    log_alpha.append(a)\n"
   ]
  },
  {
   "cell_type": "code",
   "execution_count": 41,
   "metadata": {
    "colab": {
     "base_uri": "https://localhost:8080/",
     "height": 389
    },
    "colab_type": "code",
    "id": "y5r2rIl57NHU",
    "outputId": "f7fe0568-6ddc-4ac0-9287-213ec67de3d8"
   },
   "outputs": [
    {
     "data": {
      "image/png": "[encoded data removed]",
      "text/plain": [
       "<Figure size 720x360 with 1 Axes>"
      ]
     },
     "metadata": {},
     "output_type": "display_data"
    },
    {
     "name": "stdout",
     "output_type": "stream",
     "text": [
      "The Best Hyperparater is:  MultinomialNB(alpha=0.005, class_prior=[0.5, 0.5], fit_prior=True)\n"
     ]
    }
   ],
   "source": [
    "# Plotting AUC vs alpha: hyperparameter curve\n",
    "\n",
    "plt.figure(figsize=(10,5))\n",
    "plt.plot(log_alpha, train_auc, label='Train AUC')\n",
    "# this code is copied from here: https://stackoverflow.com/a/48803361/4084039\n",
    "plt.gca().fill_between(log_alpha,train_auc - train_auc_std,train_auc + train_auc_std,alpha=0.3,color='darkblue')\n",
    "plt.plot(log_alpha, cv_auc, label='CV AUC')\n",
    "plt.gca().fill_between(log_alpha,cv_auc - cv_auc_std,cv_auc + cv_auc_std,alpha=0.3,color='darkorange')\n",
    "plt.scatter(log_alpha, train_auc, label='Train AUC points')\n",
    "plt.scatter(log_alpha, cv_auc, label='CV AUC points')\n",
    "plt.legend()\n",
    "plt.xlabel(\"log(alpha)\", fontsize = 20)\n",
    "plt.ylabel(\"AUC\", fontsize = 20)\n",
    "plt.title(\"alpha: hyperparameter v/s AUC\", fontsize = 20)\n",
    "plt.grid()\n",
    "plt.show()\n",
    "\n",
    "print(\"The Best Hyperparater is: \", clf.best_estimator_)"
   ]
  },
  {
   "cell_type": "markdown",
   "metadata": {
    "colab_type": "text",
    "id": "wHAIcOlkbcBz"
   },
   "source": [
    "## Hyper parameter tuning on TFIDF features"
   ]
  },
  {
   "cell_type": "code",
   "execution_count": 42,
   "metadata": {
    "colab": {
     "base_uri": "https://localhost:8080/",
     "height": 35
    },
    "colab_type": "code",
    "id": "2p46soW896iA",
    "outputId": "b093e9ef-d4a7-4518-f136-60548ff9e197"
   },
   "outputs": [
    {
     "name": "stderr",
     "output_type": "stream",
     "text": [
      "100%|██████████████████████████████████████████████████| 14/14 [00:00<?, ?it/s]\n"
     ]
    }
   ],
   "source": [
    "from sklearn.naive_bayes import MultinomialNB\n",
    "from sklearn.model_selection import GridSearchCV\n",
    "\n",
    "model = MultinomialNB(class_prior=[0.5,0.5])\n",
    "parameters = {'alpha':[0.00001,0.0005,0.0001,0.005,0.001,0.05,0.01,0.1,0.5,1,5,10,50,100]}   # values changed to interval(10^[-5] to 10^2) as suggested\n",
    "clf = GridSearchCV(model, parameters, cv=10, scoring='roc_auc',return_train_score=True,n_jobs=-1) ## Usng Gridsearch\n",
    "clf.fit(X_train_TFIDF, y_train)\n",
    "\n",
    "train_auc= clf.cv_results_['mean_train_score']\n",
    "train_auc_std= clf.cv_results_['std_train_score']\n",
    "cv_auc = clf.cv_results_['mean_test_score']\n",
    "cv_auc_std= clf.cv_results_['std_test_score']\n",
    "\n",
    "\n",
    "# Taking log of all alpha values\n",
    "import math\n",
    "\n",
    "alpha = [0.00001,0.0005,0.0001,0.005,0.001,0.05,0.01,0.1,0.5,1,5,10,50,100]\n",
    "\n",
    "log_alpha = []\n",
    "for values in tqdm(alpha):\n",
    "    a = math.log(values)\n",
    "    log_alpha.append(a)\n"
   ]
  },
  {
   "cell_type": "code",
   "execution_count": 43,
   "metadata": {
    "colab": {
     "base_uri": "https://localhost:8080/",
     "height": 389
    },
    "colab_type": "code",
    "id": "KHcFVkTX-QIf",
    "outputId": "958150e2-557a-4fb6-a74f-8290a8bfc11e"
   },
   "outputs": [
    {
     "data": {
      "image/png": "[encoded data removed]",
      "text/plain": [
       "<Figure size 720x360 with 1 Axes>"
      ]
     },
     "metadata": {},
     "output_type": "display_data"
    },
    {
     "name": "stdout",
     "output_type": "stream",
     "text": [
      "The Best Hyperparater is:  MultinomialNB(alpha=1e-05, class_prior=[0.5, 0.5], fit_prior=True)\n"
     ]
    }
   ],
   "source": [
    "# Plotting AUC vs alpha: hyperparameter curve\n",
    "\n",
    "plt.figure(figsize=(10,5))\n",
    "plt.plot(log_alpha, train_auc, label='Train AUC')\n",
    "# this code is copied from here: https://stackoverflow.com/a/48803361/4084039\n",
    "plt.gca().fill_between(log_alpha,train_auc - train_auc_std,train_auc + train_auc_std,alpha=0.3,color='darkblue')\n",
    "plt.plot(log_alpha, cv_auc, label='CV AUC')\n",
    "plt.gca().fill_between(log_alpha,cv_auc - cv_auc_std,cv_auc + cv_auc_std,alpha=0.3,color='darkorange')\n",
    "plt.scatter(log_alpha, train_auc, label='Train AUC points')\n",
    "plt.scatter(log_alpha, cv_auc, label='CV AUC points')\n",
    "plt.legend()\n",
    "plt.xlabel(\"log(alpha)\", fontsize = 20)\n",
    "plt.ylabel(\"AUC\", fontsize = 20)\n",
    "plt.title(\"alpha: hyperparameter v/s AUC\", fontsize = 20)\n",
    "plt.grid()\n",
    "plt.show()\n",
    "\n",
    "print(\"The Best Hyperparater is: \", clf.best_estimator_)"
   ]
  },
  {
   "cell_type": "markdown",
   "metadata": {
    "colab_type": "text",
    "id": "ZbeTkCbma9mm"
   },
   "source": [
    "## Testing the performance of our model at alpha=0.005 (In BOW) with test data"
   ]
  },
  {
   "cell_type": "code",
   "execution_count": 44,
   "metadata": {
    "colab": {},
    "colab_type": "code",
    "id": "AzIecgCYa1DH"
   },
   "outputs": [],
   "source": [
    "def batch_predict(clf, data):\n",
    "\n",
    "    y_data_pred = []\n",
    "    tr_loop = data.shape[0] - data.shape[0]%1000\n",
    "    # consider you X_tr shape is 49041, then your tr_loop will be 49041 - 49041%1000 = 49000\n",
    "    # in this for loop we will iterate unti the last 1000 multiplier\n",
    "    for i in range(0, tr_loop, 1000):\n",
    "        y_data_pred.extend(clf.predict_proba(data[i:i+1000])[:,1])\n",
    "    # we will be predicting for the last data points\n",
    "    if data.shape[0]%1000 !=0:\n",
    "        y_data_pred.extend(clf.predict_proba(data[tr_loop:])[:,1])\n",
    "    \n",
    "    return y_data_pred"
   ]
  },
  {
   "cell_type": "code",
   "execution_count": 45,
   "metadata": {
    "colab": {
     "base_uri": "https://localhost:8080/",
     "height": 315
    },
    "colab_type": "code",
    "id": "Jf_an1CMbD9L",
    "outputId": "19d4f0af-b933-4a71-a5ff-ac1a90efbe25"
   },
   "outputs": [
    {
     "data": {
      "image/png": "[encoded data removed]",
      "text/plain": [
       "<Figure size 432x288 with 1 Axes>"
      ]
     },
     "metadata": {},
     "output_type": "display_data"
    }
   ],
   "source": [
    "from sklearn.metrics import roc_curve, auc\n",
    "\n",
    "best_alpha_bow=0.005\n",
    "model = MultinomialNB(alpha=best_alpha_bow,class_prior=[0.5,0.5])\n",
    "model.fit(X_train_BOW, y_train)\n",
    "\n",
    "\n",
    "y_train_pred_BOW = batch_predict(model, X_train_BOW)    \n",
    "y_test_pred_BOW = batch_predict(model, X_test_BOW)\n",
    "\n",
    "train_fpr_BOW, train_tpr_BOW, train_thresholds_BOW = roc_curve(y_train, y_train_pred_BOW)\n",
    "test_fpr_BOW, test_tpr_BOW, test_thresholds_BOW = roc_curve(y_test, y_test_pred_BOW)\n",
    "\n",
    "plt.plot(train_fpr_BOW, train_tpr_BOW, label=\"train AUC =\"+str(auc(train_fpr_BOW, train_tpr_BOW)))\n",
    "plt.plot(test_fpr_BOW, test_tpr_BOW, label=\"test AUC =\"+str(auc(test_fpr_BOW, test_tpr_BOW)))\n",
    "AUC_BOW=auc(test_fpr_BOW, test_tpr_BOW)\n",
    "plt.legend()\n",
    "plt.xlabel(\"TFR\")\n",
    "plt.ylabel(\"TPR\")\n",
    "plt.title(\"ROC PLOTS\")\n",
    "plt.grid()\n",
    "plt.show()"
   ]
  },
  {
   "cell_type": "markdown",
   "metadata": {
    "colab_type": "text",
    "id": "eM_-OOLa3rrl"
   },
   "source": [
    "## Testing the performance of our model at alpha=0.00001 (In TFIDF) with test data"
   ]
  },
  {
   "cell_type": "code",
   "execution_count": 46,
   "metadata": {
    "colab": {
     "base_uri": "https://localhost:8080/",
     "height": 315
    },
    "colab_type": "code",
    "id": "_NVoyPILbRg0",
    "outputId": "676d0dd3-4f46-4105-c34e-eefe37f48481"
   },
   "outputs": [
    {
     "data": {
      "image/png": "[encoded data removed]",
      "text/plain": [
       "<Figure size 432x288 with 1 Axes>"
      ]
     },
     "metadata": {},
     "output_type": "display_data"
    }
   ],
   "source": [
    "from sklearn.metrics import roc_curve, auc\n",
    "\n",
    "best_alpha_tfidf= 0.00001\n",
    "model = MultinomialNB(alpha=best_alpha_tfidf,class_prior=[0.5,0.5])\n",
    "model.fit(X_train_TFIDF, y_train)\n",
    "\n",
    "y_train_pred_TFIDF = batch_predict(model, X_train_TFIDF)    \n",
    "y_test_pred_TFIDF = batch_predict(model, X_test_TFIDF)\n",
    "\n",
    "train_fpr_TFIDF, train_tpr_TFIDF, train_thresholds_TFIDF = roc_curve(y_train, y_train_pred_TFIDF)\n",
    "test_fpr_TFIDF, test_tpr_TFIDF, test_thresholds_TFIDF = roc_curve(y_test, y_test_pred_TFIDF)\n",
    "\n",
    "plt.plot(train_fpr_TFIDF, train_tpr_TFIDF, label=\"train AUC =\"+str(auc(train_fpr_TFIDF, train_tpr_TFIDF)))\n",
    "plt.plot(test_fpr_TFIDF, test_tpr_TFIDF, label=\"test AUC =\"+str(auc(test_fpr_TFIDF, test_tpr_TFIDF)))\n",
    "AUC_TFIDF=auc(test_fpr_TFIDF, test_tpr_TFIDF)     \n",
    "plt.legend()\n",
    "plt.xlabel(\"TFR\")\n",
    "plt.ylabel(\"TPR\")\n",
    "plt.title(\"ROC PLOTS\")\n",
    "plt.grid()\n",
    "plt.show()"
   ]
  },
  {
   "cell_type": "markdown",
   "metadata": {
    "colab_type": "text",
    "id": "KUBUOUen3HYb"
   },
   "source": [
    "## Observation\n",
    "\n",
    "1) As my AUC value both for train and test is >0.5, I can say that my model is sensible and good at alpha=0.005 and 0.00001\n",
    "\n",
    "## ROC curve\n",
    "\n",
    "1) I plot ROC curve by using FPR(False positive rate) on X-axis and TPR(true positive rate) on Y-axis\n",
    "\n",
    "2) You can understand what is TPR and FPR by looking at confusion matrix"
   ]
  },
  {
   "cell_type": "markdown",
   "metadata": {
    "colab_type": "text",
    "id": "seUVBIYP4OrI"
   },
   "source": [
    "## CONFUSION MATRIX"
   ]
  },
  {
   "cell_type": "code",
   "execution_count": 47,
   "metadata": {
    "colab": {},
    "colab_type": "code",
    "id": "mmWyuxAob68w"
   },
   "outputs": [],
   "source": [
    "# we are writing our own function for predict, with defined thresould\n",
    "# we will pick a threshold that will give the least fpr\n",
    "def find_best_threshold(threshould, fpr, tpr):\n",
    "    t = threshould[np.argmax(tpr*(1-fpr))]   # (tpr*(1-fpr)) will be maximum if your fpr is very low and tpr is very high\n",
    "    return t\n",
    "\n",
    "def predict_with_best_t(proba, threshould):\n",
    "    predictions = []\n",
    "    for i in proba:\n",
    "        if i>=threshould:\n",
    "            predictions.append(1)\n",
    "        else:\n",
    "            predictions.append(0)\n",
    "    return predictions"
   ]
  },
  {
   "cell_type": "markdown",
   "metadata": {
    "colab_type": "text",
    "id": "JlovrRMO7pVt"
   },
   "source": [
    "## Confusion matrix for Set 1 (BOW)"
   ]
  },
  {
   "cell_type": "code",
   "execution_count": 48,
   "metadata": {
    "colab": {
     "base_uri": "https://localhost:8080/",
     "height": 402
    },
    "colab_type": "code",
    "id": "3jLEyfQ5cBD9",
    "outputId": "4370e1bd-65f9-40a3-bf2c-b4270a6b66d2"
   },
   "outputs": [
    {
     "name": "stdout",
     "output_type": "stream",
     "text": [
      " The confusion matrix of model with BOW vectorization\n",
      "************************************************************\n",
      "      0     1\n",
      "0  1665   977\n",
      "1  4374  9484\n",
      "************************************************************\n"
     ]
    },
    {
     "data": {
      "text/plain": [
       "<matplotlib.axes._subplots.AxesSubplot at 0xd94ea08>"
      ]
     },
     "execution_count": 48,
     "metadata": {},
     "output_type": "execute_result"
    },
    {
     "data": {
      "image/png": "[encoded data removed]",
      "text/plain": [
       "<Figure size 432x288 with 2 Axes>"
      ]
     },
     "metadata": {},
     "output_type": "display_data"
    }
   ],
   "source": [
    "print (\" The confusion matrix of model with BOW vectorization\")\n",
    "print(\"**\"*30)\n",
    "## Function calling\n",
    "best_t = find_best_threshold(train_thresholds_BOW, train_fpr_BOW, train_tpr_BOW)\n",
    "CF_MAT_BOW=pd.DataFrame(confusion_matrix(y_test, predict_with_best_t(y_test_pred_BOW, best_t)))\n",
    "print(CF_MAT_BOW)\n",
    "print(\"**\"*30)\n",
    "\n",
    "\n",
    "## Ploting confusion matrix\n",
    "CF_MAT_BOW.columns = ['Predicted-0','Predicted-1']\n",
    "CF_MAT_BOW = CF_MAT_BOW.rename({0 : 'Actual-0', 1: 'Actual-1'})\n",
    "sns.set(font_scale=1.4)\n",
    "sns.heatmap(CF_MAT_BOW,annot=True,annot_kws={\"size\":16},fmt='g')\n",
    "\n",
    "\n"
   ]
  },
  {
   "cell_type": "markdown",
   "metadata": {
    "colab_type": "text",
    "id": "edvwgTGT8Ggb"
   },
   "source": [
    "## Confusion matrix for Set 2 (TFIDF)"
   ]
  },
  {
   "cell_type": "code",
   "execution_count": 49,
   "metadata": {
    "colab": {
     "base_uri": "https://localhost:8080/",
     "height": 402
    },
    "colab_type": "code",
    "id": "nvXowOa1gx5i",
    "outputId": "d6777bb7-d5b2-48b9-e163-3373fe502a40"
   },
   "outputs": [
    {
     "name": "stdout",
     "output_type": "stream",
     "text": [
      " The confusion matrix of model with TFIDF vectorization\n",
      "************************************************************\n",
      "      0     1\n",
      "0  1675   967\n",
      "1  5056  8802\n",
      "************************************************************\n"
     ]
    },
    {
     "data": {
      "text/plain": [
       "<matplotlib.axes._subplots.AxesSubplot at 0x11509e88>"
      ]
     },
     "execution_count": 49,
     "metadata": {},
     "output_type": "execute_result"
    },
    {
     "data": {
      "image/png": "[encoded data removed]",
      "text/plain": [
       "<Figure size 432x288 with 2 Axes>"
      ]
     },
     "metadata": {},
     "output_type": "display_data"
    }
   ],
   "source": [
    "print (\" The confusion matrix of model with TFIDF vectorization\")\n",
    "print(\"**\"*30)\n",
    "## Function calling\n",
    "best_t = find_best_threshold(train_thresholds_TFIDF, train_fpr_TFIDF, train_tpr_TFIDF)\n",
    "CF_MAT_TFIDF=pd.DataFrame(confusion_matrix(y_test, predict_with_best_t(y_test_pred_TFIDF, best_t)))\n",
    "print(CF_MAT_TFIDF)\n",
    "print(\"**\"*30)\n",
    "\n",
    "\n",
    "#ploting confusion matrix\n",
    "CF_MAT_TFIDF.columns=['Predicted-0','Predicted-1']\n",
    "CF_MAT_TFIDF=CF_MAT_TFIDF.rename({0:'Actual-0',1:'Actual-1'})\n",
    "sns.set(font_scale=1.4)\n",
    "sns.heatmap(CF_MAT_TFIDF,annot= True,annot_kws={\"size\":16},fmt='g')\n"
   ]
  },
  {
   "cell_type": "markdown",
   "metadata": {
    "colab_type": "text",
    "id": "n_JOHQGi-fPw"
   },
   "source": [
    "## Top 20 features of Set1 (BOW)"
   ]
  },
  {
   "cell_type": "code",
   "execution_count": 50,
   "metadata": {
    "colab": {
     "base_uri": "https://localhost:8080/",
     "height": 127
    },
    "colab_type": "code",
    "id": "z3TZE5JZBt6m",
    "outputId": "7ec3d57b-f10f-4393-e3bf-8d4ed69b7993"
   },
   "outputs": [
    {
     "name": "stdout",
     "output_type": "stream",
     "text": [
      "(33500, 8101) (33500,)\n",
      "(16500, 8101) (16500,)\n",
      "****************************************************************************************************\n",
      "(33500, 8101) (33500,)\n",
      "(16500, 8101) (16500,)\n",
      "****************************************************************************************************\n"
     ]
    }
   ],
   "source": [
    "# merge two sparse matrices: https://stackoverflow.com/a/19710648/4084039\n",
    "## Set 1 (Ctaegorical+Numerical+titles(BOW)+Essays(BOW))\n",
    "from scipy.sparse import hstack\n",
    "X_train_BOW = hstack((X_train_essay_bow, X_train_school_state_bow, X_train_teacher_prefix_bow, X_train_project_grade_category_bow,X_train_clean_categories_bow,X_train_clean_subcategories_bow, X_train_price_norm,X_train_teacher_number_of_previously_posted_projects_norm)).tocsr()\n",
    "X_test_BOW = hstack((X_test_essay_bow, X_test_school_state_bow, X_test_teacher_prefix_bow, X_test_project_grade_category_bow,X_test_clean_categories_bow,X_test_clean_subcategories_bow, X_test_price_norm,X_test_teacher_number_of_previously_posted_projects_norm)).tocsr()\n",
    "\n",
    "print(X_train_BOW.shape, y_train.shape)\n",
    "print(X_test_BOW.shape, y_test.shape)\n",
    "print('**'*50)\n",
    "\n",
    "## Set 2 (Ctaegorical+Numerical+titles(TFIDF)+Essays(TFIDF))\n",
    "X_train_TFIDF = hstack((X_train_essay_TF, X_train_school_state_TF, X_train_teacher_prefix_TF, X_train_project_grade_category_TF,X_train_clean_categories_TF,X_train_clean_subcategories_TF, X_train_price_norm,X_train_teacher_number_of_previously_posted_projects_norm)).tocsr()\n",
    "X_test_TFIDF = hstack((X_test_essay_TF, X_test_school_state_TF, X_test_teacher_prefix_TF, X_test_project_grade_category_TF,X_test_clean_categories_TF,X_test_clean_subcategories_TF, X_test_price_norm,X_test_teacher_number_of_previously_posted_projects_norm)).tocsr()\n",
    "\n",
    "print(X_train_TFIDF.shape, y_train.shape)\n",
    "print(X_test_TFIDF.shape, y_test.shape)\n",
    "print('**'*50)"
   ]
  },
  {
   "cell_type": "code",
   "execution_count": 51,
   "metadata": {
    "colab": {
     "base_uri": "https://localhost:8080/",
     "height": 35
    },
    "colab_type": "code",
    "id": "w9y7X_rBB6Tk",
    "outputId": "58f10c22-4600-4494-d4ca-7880a9bd8e8f"
   },
   "outputs": [
    {
     "data": {
      "text/plain": [
       "MultinomialNB(alpha=0.005, class_prior=[0.5, 0.5], fit_prior=True)"
      ]
     },
     "execution_count": 51,
     "metadata": {},
     "output_type": "execute_result"
    }
   ],
   "source": [
    "MNB = MultinomialNB(alpha = 0.005,class_prior=[0.5,0.5])\n",
    "MNB.fit(X_train_BOW, y_train)"
   ]
  },
  {
   "cell_type": "code",
   "execution_count": 52,
   "metadata": {
    "colab": {
     "base_uri": "https://localhost:8080/",
     "height": 35
    },
    "colab_type": "code",
    "id": "L0XqMYpKCMy-",
    "outputId": "0c4f5193-ba48-499c-d138-b2fc8fe15452"
   },
   "outputs": [
    {
     "name": "stdout",
     "output_type": "stream",
     "text": [
      "The total number rows & columns in our dataset:  (33500, 8101)\n"
     ]
    }
   ],
   "source": [
    "print(\"The total number rows & columns in our dataset: \", X_train_BOW.shape)"
   ]
  },
  {
   "cell_type": "code",
   "execution_count": 53,
   "metadata": {
    "colab": {
     "base_uri": "https://localhost:8080/",
     "height": 35
    },
    "colab_type": "code",
    "id": "y8zZuzk8CRMJ",
    "outputId": "4f21aa24-9f90-4141-e815-ab17252313fd"
   },
   "outputs": [
    {
     "name": "stdout",
     "output_type": "stream",
     "text": [
      "8101\n"
     ]
    }
   ],
   "source": [
    "bow_features_probs_negative = []\n",
    "for a in range(8101) :     # as number of columns in our dataset is 8101 and so is total features\n",
    "    bow_features_probs_negative.append(MNB.feature_log_prob_[0,a])\n",
    "print(len(bow_features_probs_negative))"
   ]
  },
  {
   "cell_type": "code",
   "execution_count": 54,
   "metadata": {
    "colab": {},
    "colab_type": "code",
    "id": "qIXRbvmgC82V"
   },
   "outputs": [],
   "source": [
    "bow_feature_names = []\n",
    "\n",
    "for a in essay_feature_bow:\n",
    "  bow_feature_names.append(a)"
   ]
  },
  {
   "cell_type": "code",
   "execution_count": 55,
   "metadata": {
    "colab": {},
    "colab_type": "code",
    "id": "P0Zvpp5BC-aF"
   },
   "outputs": [],
   "source": [
    "for a in school_state_feature_bow:\n",
    "  bow_feature_names.append(a)"
   ]
  },
  {
   "cell_type": "code",
   "execution_count": 56,
   "metadata": {
    "colab": {},
    "colab_type": "code",
    "id": "oLJTH_D2DDDn"
   },
   "outputs": [],
   "source": [
    "for a in teacher_prefix_feature_bow:\n",
    "  bow_feature_names.append(a)"
   ]
  },
  {
   "cell_type": "code",
   "execution_count": 57,
   "metadata": {
    "colab": {},
    "colab_type": "code",
    "id": "dWokeeXSDHMq"
   },
   "outputs": [],
   "source": [
    "for a in project_grade_category_feature_bow:\n",
    "  bow_feature_names.append(a)"
   ]
  },
  {
   "cell_type": "code",
   "execution_count": 58,
   "metadata": {
    "colab": {},
    "colab_type": "code",
    "id": "fiSgFLCdDJu_"
   },
   "outputs": [],
   "source": [
    "for a in clean_categories_feature_bow:\n",
    "  bow_feature_names.append(a)"
   ]
  },
  {
   "cell_type": "code",
   "execution_count": 59,
   "metadata": {
    "colab": {},
    "colab_type": "code",
    "id": "3EOju2TBDMkN"
   },
   "outputs": [],
   "source": [
    "for a in clean_subcategories_feature_bow:\n",
    "  bow_feature_names.append(a)"
   ]
  },
  {
   "cell_type": "code",
   "execution_count": 60,
   "metadata": {
    "colab": {},
    "colab_type": "code",
    "id": "0h9gWF6_DSdp"
   },
   "outputs": [],
   "source": [
    "bow_feature_names.append('price')\n",
    "bow_feature_names.append('teacher_number_of_previously_posted_projects')"
   ]
  },
  {
   "cell_type": "code",
   "execution_count": 61,
   "metadata": {
    "colab": {
     "base_uri": "https://localhost:8080/",
     "height": 35
    },
    "colab_type": "code",
    "id": "IqsHFJ66DZ8q",
    "outputId": "932e1972-e42d-4398-a53a-6ef281b306b2"
   },
   "outputs": [
    {
     "name": "stdout",
     "output_type": "stream",
     "text": [
      "8101\n"
     ]
    }
   ],
   "source": [
    "print(len(bow_feature_names))"
   ]
  },
  {
   "cell_type": "code",
   "execution_count": 62,
   "metadata": {
    "colab": {
     "base_uri": "https://localhost:8080/",
     "height": 35
    },
    "colab_type": "code",
    "id": "bsghZbNDJ5q1",
    "outputId": "95f41113-400b-4757-8033-72434fafb143"
   },
   "outputs": [
    {
     "name": "stdout",
     "output_type": "stream",
     "text": [
      "The total number rows & columns in our dataset:  (33500, 8101)\n"
     ]
    }
   ],
   "source": [
    "print(\"The total number rows & columns in our dataset: \", X_train_BOW.shape)"
   ]
  },
  {
   "cell_type": "code",
   "execution_count": 63,
   "metadata": {
    "colab": {},
    "colab_type": "code",
    "id": "YSq0NaOBKWUy"
   },
   "outputs": [],
   "source": [
    "final_bow_features_negative = pd.DataFrame({'feature_names':bow_feature_names, 'feature_probs':bow_features_probs_negative})"
   ]
  },
  {
   "cell_type": "code",
   "execution_count": 64,
   "metadata": {
    "colab": {},
    "colab_type": "code",
    "id": "M-fqRuOsKcXl"
   },
   "outputs": [],
   "source": [
    "df = final_bow_features_negative.sort_values(by = ['feature_probs'], ascending = True)"
   ]
  },
  {
   "cell_type": "markdown",
   "metadata": {
    "colab_type": "text",
    "id": "a1jVTzS3dy0B"
   },
   "source": [
    "## Top 20 important features of Negative class of Set 1"
   ]
  },
  {
   "cell_type": "code",
   "execution_count": 65,
   "metadata": {
    "colab": {
     "base_uri": "https://localhost:8080/",
     "height": 677
    },
    "colab_type": "code",
    "id": "yy8J1iuCK63o",
    "outputId": "21654f09-5648-4202-df56-fbdaaf019bb7"
   },
   "outputs": [
    {
     "data": {
      "text/html": [
       "<div>\n",
       "<style scoped>\n",
       "    .dataframe tbody tr th:only-of-type {\n",
       "        vertical-align: middle;\n",
       "    }\n",
       "\n",
       "    .dataframe tbody tr th {\n",
       "        vertical-align: top;\n",
       "    }\n",
       "\n",
       "    .dataframe thead th {\n",
       "        text-align: right;\n",
       "    }\n",
       "</style>\n",
       "<table border=\"1\" class=\"dataframe\">\n",
       "  <thead>\n",
       "    <tr style=\"text-align: right;\">\n",
       "      <th></th>\n",
       "      <th>feature_names</th>\n",
       "      <th>feature_probs</th>\n",
       "    </tr>\n",
       "  </thead>\n",
       "  <tbody>\n",
       "    <tr>\n",
       "      <th>8098</th>\n",
       "      <td>warmth</td>\n",
       "      <td>-13.805614</td>\n",
       "    </tr>\n",
       "    <tr>\n",
       "      <th>8051</th>\n",
       "      <td>dr</td>\n",
       "      <td>-13.805614</td>\n",
       "    </tr>\n",
       "    <tr>\n",
       "      <th>8061</th>\n",
       "      <td>care_hunger</td>\n",
       "      <td>-13.805614</td>\n",
       "    </tr>\n",
       "    <tr>\n",
       "      <th>8068</th>\n",
       "      <td>warmth</td>\n",
       "      <td>-13.805614</td>\n",
       "    </tr>\n",
       "    <tr>\n",
       "      <th>8070</th>\n",
       "      <td>care_hunger</td>\n",
       "      <td>-13.805614</td>\n",
       "    </tr>\n",
       "    <tr>\n",
       "      <th>615</th>\n",
       "      <td>ball chair</td>\n",
       "      <td>-13.805614</td>\n",
       "    </tr>\n",
       "    <tr>\n",
       "      <th>8050</th>\n",
       "      <td>wy</td>\n",
       "      <td>-13.114958</td>\n",
       "    </tr>\n",
       "    <tr>\n",
       "      <th>8028</th>\n",
       "      <td>nd</td>\n",
       "      <td>-13.114958</td>\n",
       "    </tr>\n",
       "    <tr>\n",
       "      <th>6250</th>\n",
       "      <td>storyworks</td>\n",
       "      <td>-12.710324</td>\n",
       "    </tr>\n",
       "    <tr>\n",
       "      <th>1539</th>\n",
       "      <td>dash dot</td>\n",
       "      <td>-12.710324</td>\n",
       "    </tr>\n",
       "    <tr>\n",
       "      <th>6751</th>\n",
       "      <td>students wiggle</td>\n",
       "      <td>-12.710324</td>\n",
       "    </tr>\n",
       "    <tr>\n",
       "      <th>6241</th>\n",
       "      <td>stools would</td>\n",
       "      <td>-12.710324</td>\n",
       "    </tr>\n",
       "    <tr>\n",
       "      <th>7072</th>\n",
       "      <td>the wobble chairs</td>\n",
       "      <td>-12.710324</td>\n",
       "    </tr>\n",
       "    <tr>\n",
       "      <th>7277</th>\n",
       "      <td>tile</td>\n",
       "      <td>-12.423058</td>\n",
       "    </tr>\n",
       "    <tr>\n",
       "      <th>3429</th>\n",
       "      <td>kindle fire</td>\n",
       "      <td>-12.200164</td>\n",
       "    </tr>\n",
       "    <tr>\n",
       "      <th>4844</th>\n",
       "      <td>ozobots</td>\n",
       "      <td>-12.200164</td>\n",
       "    </tr>\n",
       "    <tr>\n",
       "      <th>1046</th>\n",
       "      <td>chromebooks allow</td>\n",
       "      <td>-12.200164</td>\n",
       "    </tr>\n",
       "    <tr>\n",
       "      <th>2135</th>\n",
       "      <td>every day ready learn</td>\n",
       "      <td>-12.200164</td>\n",
       "    </tr>\n",
       "    <tr>\n",
       "      <th>7028</th>\n",
       "      <td>the hokki</td>\n",
       "      <td>-12.200164</td>\n",
       "    </tr>\n",
       "    <tr>\n",
       "      <th>7029</th>\n",
       "      <td>the hokki stools</td>\n",
       "      <td>-12.200164</td>\n",
       "    </tr>\n",
       "  </tbody>\n",
       "</table>\n",
       "</div>"
      ],
      "text/plain": [
       "              feature_names  feature_probs\n",
       "8098                 warmth     -13.805614\n",
       "8051                     dr     -13.805614\n",
       "8061            care_hunger     -13.805614\n",
       "8068                 warmth     -13.805614\n",
       "8070            care_hunger     -13.805614\n",
       "615              ball chair     -13.805614\n",
       "8050                     wy     -13.114958\n",
       "8028                     nd     -13.114958\n",
       "6250             storyworks     -12.710324\n",
       "1539               dash dot     -12.710324\n",
       "6751        students wiggle     -12.710324\n",
       "6241           stools would     -12.710324\n",
       "7072      the wobble chairs     -12.710324\n",
       "7277                   tile     -12.423058\n",
       "3429            kindle fire     -12.200164\n",
       "4844                ozobots     -12.200164\n",
       "1046      chromebooks allow     -12.200164\n",
       "2135  every day ready learn     -12.200164\n",
       "7028              the hokki     -12.200164\n",
       "7029       the hokki stools     -12.200164"
      ]
     },
     "execution_count": 65,
     "metadata": {},
     "output_type": "execute_result"
    }
   ],
   "source": [
    "df.head(20)"
   ]
  },
  {
   "cell_type": "markdown",
   "metadata": {
    "colab_type": "text",
    "id": "77x0uHBtdrQS"
   },
   "source": [
    "##  Top 20 important features of positive class of Set 1"
   ]
  },
  {
   "cell_type": "code",
   "execution_count": 66,
   "metadata": {
    "colab": {
     "base_uri": "https://localhost:8080/",
     "height": 35
    },
    "colab_type": "code",
    "id": "ufcN93L8K0oX",
    "outputId": "3fccab0d-24d4-4544-8b60-7e2043b2f465"
   },
   "outputs": [
    {
     "name": "stdout",
     "output_type": "stream",
     "text": [
      "8101\n"
     ]
    }
   ],
   "source": [
    "bow_features_probs_positive = []\n",
    "\n",
    "for a in range(8101) :     # as number of columns in our dataset is 8101 and so is total features\n",
    "    bow_features_probs_positive.append(MNB.feature_log_prob_[1,a])\n",
    "print(len(bow_features_probs_positive))"
   ]
  },
  {
   "cell_type": "code",
   "execution_count": 67,
   "metadata": {
    "colab": {},
    "colab_type": "code",
    "id": "UgXv1h-bLgYT"
   },
   "outputs": [],
   "source": [
    "final_bow_features_positive = pd.DataFrame({'feature_names':bow_feature_names, 'feature_probs':bow_features_probs_positive})"
   ]
  },
  {
   "cell_type": "code",
   "execution_count": 68,
   "metadata": {
    "colab": {},
    "colab_type": "code",
    "id": "JAflWqyELnVZ"
   },
   "outputs": [],
   "source": [
    "df = final_bow_features_positive.sort_values(by = ['feature_probs'], ascending = True)"
   ]
  },
  {
   "cell_type": "code",
   "execution_count": 69,
   "metadata": {
    "colab": {
     "base_uri": "https://localhost:8080/",
     "height": 677
    },
    "colab_type": "code",
    "id": "HZBC0PgiLrN-",
    "outputId": "3686fc0f-cfea-4ae3-d24c-0ee09b01962b"
   },
   "outputs": [
    {
     "data": {
      "text/html": [
       "<div>\n",
       "<style scoped>\n",
       "    .dataframe tbody tr th:only-of-type {\n",
       "        vertical-align: middle;\n",
       "    }\n",
       "\n",
       "    .dataframe tbody tr th {\n",
       "        vertical-align: top;\n",
       "    }\n",
       "\n",
       "    .dataframe thead th {\n",
       "        text-align: right;\n",
       "    }\n",
       "</style>\n",
       "<table border=\"1\" class=\"dataframe\">\n",
       "  <thead>\n",
       "    <tr style=\"text-align: right;\">\n",
       "      <th></th>\n",
       "      <th>feature_names</th>\n",
       "      <th>feature_probs</th>\n",
       "    </tr>\n",
       "  </thead>\n",
       "  <tbody>\n",
       "    <tr>\n",
       "      <th>8070</th>\n",
       "      <td>care_hunger</td>\n",
       "      <td>-15.523820</td>\n",
       "    </tr>\n",
       "    <tr>\n",
       "      <th>8098</th>\n",
       "      <td>warmth</td>\n",
       "      <td>-15.523820</td>\n",
       "    </tr>\n",
       "    <tr>\n",
       "      <th>8061</th>\n",
       "      <td>care_hunger</td>\n",
       "      <td>-15.523820</td>\n",
       "    </tr>\n",
       "    <tr>\n",
       "      <th>8068</th>\n",
       "      <td>warmth</td>\n",
       "      <td>-15.523820</td>\n",
       "    </tr>\n",
       "    <tr>\n",
       "      <th>8051</th>\n",
       "      <td>dr</td>\n",
       "      <td>-14.833163</td>\n",
       "    </tr>\n",
       "    <tr>\n",
       "      <th>8050</th>\n",
       "      <td>wy</td>\n",
       "      <td>-12.963473</td>\n",
       "    </tr>\n",
       "    <tr>\n",
       "      <th>8046</th>\n",
       "      <td>vt</td>\n",
       "      <td>-12.484047</td>\n",
       "    </tr>\n",
       "    <tr>\n",
       "      <th>8028</th>\n",
       "      <td>nd</td>\n",
       "      <td>-11.791018</td>\n",
       "    </tr>\n",
       "    <tr>\n",
       "      <th>8080</th>\n",
       "      <td>financialliteracy</td>\n",
       "      <td>-11.700057</td>\n",
       "    </tr>\n",
       "    <tr>\n",
       "      <th>8026</th>\n",
       "      <td>mt</td>\n",
       "      <td>-11.657502</td>\n",
       "    </tr>\n",
       "    <tr>\n",
       "      <th>8039</th>\n",
       "      <td>ri</td>\n",
       "      <td>-11.451185</td>\n",
       "    </tr>\n",
       "    <tr>\n",
       "      <th>8100</th>\n",
       "      <td>teacher_number_of_previously_posted_projects</td>\n",
       "      <td>-11.439126</td>\n",
       "    </tr>\n",
       "    <tr>\n",
       "      <th>8076</th>\n",
       "      <td>economics</td>\n",
       "      <td>-11.434379</td>\n",
       "    </tr>\n",
       "    <tr>\n",
       "      <th>8030</th>\n",
       "      <td>nh</td>\n",
       "      <td>-11.122027</td>\n",
       "    </tr>\n",
       "    <tr>\n",
       "      <th>8041</th>\n",
       "      <td>sd</td>\n",
       "      <td>-11.074402</td>\n",
       "    </tr>\n",
       "    <tr>\n",
       "      <th>8092</th>\n",
       "      <td>parentinvolvement</td>\n",
       "      <td>-11.051413</td>\n",
       "    </tr>\n",
       "    <tr>\n",
       "      <th>3362</th>\n",
       "      <td>items requested</td>\n",
       "      <td>-11.051413</td>\n",
       "    </tr>\n",
       "    <tr>\n",
       "      <th>8029</th>\n",
       "      <td>ne</td>\n",
       "      <td>-11.028942</td>\n",
       "    </tr>\n",
       "    <tr>\n",
       "      <th>4149</th>\n",
       "      <td>math materials</td>\n",
       "      <td>-11.028942</td>\n",
       "    </tr>\n",
       "    <tr>\n",
       "      <th>7098</th>\n",
       "      <td>these materials allow students</td>\n",
       "      <td>-11.028942</td>\n",
       "    </tr>\n",
       "  </tbody>\n",
       "</table>\n",
       "</div>"
      ],
      "text/plain": [
       "                                     feature_names  feature_probs\n",
       "8070                                   care_hunger     -15.523820\n",
       "8098                                        warmth     -15.523820\n",
       "8061                                   care_hunger     -15.523820\n",
       "8068                                        warmth     -15.523820\n",
       "8051                                            dr     -14.833163\n",
       "8050                                            wy     -12.963473\n",
       "8046                                            vt     -12.484047\n",
       "8028                                            nd     -11.791018\n",
       "8080                             financialliteracy     -11.700057\n",
       "8026                                            mt     -11.657502\n",
       "8039                                            ri     -11.451185\n",
       "8100  teacher_number_of_previously_posted_projects     -11.439126\n",
       "8076                                     economics     -11.434379\n",
       "8030                                            nh     -11.122027\n",
       "8041                                            sd     -11.074402\n",
       "8092                             parentinvolvement     -11.051413\n",
       "3362                               items requested     -11.051413\n",
       "8029                                            ne     -11.028942\n",
       "4149                                math materials     -11.028942\n",
       "7098                these materials allow students     -11.028942"
      ]
     },
     "execution_count": 69,
     "metadata": {},
     "output_type": "execute_result"
    }
   ],
   "source": [
    "df.head(20)"
   ]
  },
  {
   "cell_type": "markdown",
   "metadata": {
    "colab_type": "text",
    "id": "nhtVP-lyd_32"
   },
   "source": [
    "## Summary\n"
   ]
  },
  {
   "cell_type": "code",
   "execution_count": 70,
   "metadata": {
    "colab": {
     "base_uri": "https://localhost:8080/",
     "height": 127
    },
    "colab_type": "code",
    "id": "JfCQk1leeC7A",
    "outputId": "70029720-faea-4d59-d665-8fbb9bd85353"
   },
   "outputs": [
    {
     "name": "stdout",
     "output_type": "stream",
     "text": [
      "+---------------+---------------+------------------------+-----------------+--------------------+\n",
      "| Vectorization |     Model     | Hyper-parameter tuning | Hyper-parameter |     AUC_SCORE      |\n",
      "+---------------+---------------+------------------------+-----------------+--------------------+\n",
      "|      BOW      | MultinomialNB |      GridSearchCV      |      0.005      | 0.703815582600594  |\n",
      "|     TFIDF     | MultinomialNB |      GridSearchCV      |      1e-05      | 0.6855894473730471 |\n",
      "+---------------+---------------+------------------------+-----------------+--------------------+\n"
     ]
    }
   ],
   "source": [
    "from prettytable import PrettyTable\n",
    "\n",
    "x = PrettyTable([\"Vectorization\",\"Model\", \"Hyper-parameter tuning\", \"Hyper-parameter\" ,\"AUC_SCORE\"])\n",
    "x.add_row([\" BOW \", \"MultinomialNB\",\"GridSearchCV\", best_alpha_bow, AUC_BOW])\n",
    "x.add_row([\" TFIDF \",\"MultinomialNB\", \"GridSearchCV\", best_alpha_tfidf, AUC_TFIDF])\n",
    "print(x)"
   ]
  },
  {
   "cell_type": "markdown",
   "metadata": {
    "colab_type": "text",
    "id": "X_xA9-la_o9Y"
   },
   "source": [
    "## Conclusion\n",
    "\n",
    "1) My model is resonably good when I consider confusion matrix\n",
    "\n",
    "2) Among BOW and TFIDF, I got better results for BOW model"
   ]
  },
  {
   "cell_type": "code",
   "execution_count": null,
   "metadata": {},
   "outputs": [],
   "source": []
  }
 ],
 "metadata": {
  "colab": {
   "collapsed_sections": [],
   "name": "NB_Anvesh_Assignment.ipynb",
   "provenance": []
  },
  "kernelspec": {
   "display_name": "Python 3",
   "language": "python",
   "name": "python3"
  },
  "language_info": {
   "codemirror_mode": {
    "name": "ipython",
    "version": 3
   },
   "file_extension": ".py",
   "mimetype": "text/x-python",
   "name": "python",
   "nbconvert_exporter": "python",
   "pygments_lexer": "ipython3",
   "version": "3.7.6"
  }
 },
 "nbformat": 4,
 "nbformat_minor": 1
}
